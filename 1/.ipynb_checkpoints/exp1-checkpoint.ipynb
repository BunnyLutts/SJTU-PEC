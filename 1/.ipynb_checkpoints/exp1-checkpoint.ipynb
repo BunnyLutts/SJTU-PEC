{
 "cells": [
  {
   "cell_type": "code",
   "execution_count": 19,
   "metadata": {},
   "outputs": [],
   "source": [
    "from decimal import Decimal\n",
    "from math import sqrt\n",
    "from typing import Any\n",
    "\n",
    "\n",
    "def calcAvg(x):\n",
    "    sum = Decimal(0)\n",
    "    for i in x:\n",
    "        sum = (sum+i).quantize(Decimal(i))\n",
    "    return (sum/Decimal(len(x))).quantize(Decimal(sum))\n",
    "\n",
    "def calcSigma(x):\n",
    "    avg = calcAvg(x)\n",
    "    sum  = Decimal(0)\n",
    "    for i in x:\n",
    "        sum = (sum+(avg-i)**2)\n",
    "    return (sum/Decimal(len(x)-1).sqrt()).quantize(Decimal(avg))\n",
    "\n",
    "def calcUncertainty(x, d, c):\n",
    "    sigma = calcSigma(x)\n",
    "    delta_a = sigma*c\n",
    "    delta_b = d/c\n",
    "    return (delta_a**2 + delta_b**2).sqrt().quantize(Decimal(x[0]))\n",
    "\n",
    "class ExpData:\n",
    "    def __init__(self, avg:Decimal, uncertainty:Decimal):\n",
    "        self.avg = avg\n",
    "        self.u = uncertainty\n",
    "    \n",
    "    def __str__(self):\n",
    "        return f\"avg: {self.avg}, uncertainty: {self.uncertainty}\"\n",
    "\n",
    "    def __repr__(self):\n",
    "        return f\"avg: {self.avg}, u: {self.u}\"\n",
    "    \n",
    "    def __add__(self, other):\n",
    "        avg = (self.avg + other.avg).quantize(Decimal(self.avg))\n",
    "        u = (self.u + other.u).quantize(Decimal(self.u))\n",
    "        return ExpData(avg, u)\n",
    "\n",
    "    def __sub__(self, other):\n",
    "        avg = (self.avg - other.avg).quantize(Decimal(self.avg))\n",
    "        u = (self.u + other.u).quantize(Decimal(self.u))\n",
    "        return ExpData(avg, u)\n",
    "\n",
    "    def __mul__(self, other):\n",
    "        avg = (self.avg*other.avg).quantize(Decimal(self.avg))\n",
    "\n",
    "\n",
    "def genData(x:list, d, c=1.05):\n",
    "    avg = calcAvg(x)\n",
    "    u = calcUncertainty(x, d, c)\n",
    "    return ExpData(avg, u)\n"
   ]
  },
  {
   "cell_type": "markdown",
   "metadata": {},
   "source": [
    "## 凸透镜\n",
    "### 自准法"
   ]
  },
  {
   "cell_type": "code",
   "execution_count": 16,
   "metadata": {},
   "outputs": [
    {
     "data": {
      "text/plain": [
       "Decimal('16.55')"
      ]
     },
     "execution_count": 16,
     "metadata": {},
     "output_type": "execute_result"
    }
   ],
   "source": [
    "from decimal import Decimal\n",
    "\n",
    "x_1l = ['20.95', '20.45', '20.45', '20.50', '20.80', '20.45']\n",
    "x_1r = ['25.80', '25.25', '25.25', '25.40', '25.65', '25.35']\n",
    "x_2l = ['20.05', '20.15', '20.05', '19.90', '20.20', '19.85']\n",
    "x_2r = ['24.90', '25.00', '24.90', '24.80', '25.10', '24.80']\n",
    "\n",
    "x_1l = [Decimal(x) for x in x_1l]\n",
    "x_1r = [Decimal(x) for x in x_1r]\n",
    "x_2l = [Decimal(x) for x in x_2l]\n",
    "x_2r = [Decimal(x) for x in x_2r]\n",
    "\n",
    "x_1l_avg = calcAvg(x_1l)\n",
    "x_1r_avg = calcAvg(x_1r)\n",
    "x_2l_avg = calcAvg(x_2l)\n",
    "x_2r_avg = calcAvg(x_2r)\n",
    "\n",
    "pos = ((Decimal('1.20')+Decimal('6.60'))/2+(Decimal('22.96')/10)).quantize(Decimal('1.20'))\n",
    "\n",
    "x_avg = ((x_1l_avg+x_1r_avg+x_2l_avg+x_2r_avg)/4).quantize(x_1l_avg)\n",
    "\n",
    "f = (x_avg-pos).quantize(Decimal(x_avg))"
   ]
  },
  {
   "cell_type": "code",
   "execution_count": 20,
   "metadata": {},
   "outputs": [
    {
     "data": {
      "text/plain": [
       "[Decimal('0.12'), Decimal('0.12'), Decimal('0.06'), Decimal('0.06')]"
      ]
     },
     "execution_count": 20,
     "metadata": {},
     "output_type": "execute_result"
    }
   ],
   "source": [
    "from re import U\n",
    "\n",
    "\n",
    "delta = Decimal('0.05')\n",
    "c = Decimal('1.05')\n",
    "n = 6\n",
    "u_x1l = calcUncertainty(x_1l, delta, c)\n",
    "u_x1r = calcUncertainty(x_1r, delta, c)\n",
    "u_x2l = calcUncertainty(x_2l, delta, c)\n",
    "u_x2r = calcUncertainty(x_2r, delta, c)\n",
    "[u_x1l, u_x1r, u_x2l, u_x2r]"
   ]
  },
  {
   "cell_type": "code",
   "execution_count": 24,
   "metadata": {},
   "outputs": [
    {
     "data": {
      "text/plain": [
       "(Decimal('0.19'), Decimal('0.008351648351648351648351648352'))"
      ]
     },
     "execution_count": 24,
     "metadata": {},
     "output_type": "execute_result"
    }
   ],
   "source": [
    "u_x = (u_x1l**2 + u_x1r**2 + u_x2l**2 + u_x2r**2).sqrt().quantize(u_x1l)\n",
    "u_xr = (u_x/x_avg)\n",
    "(u_x, u_xr)"
   ]
  },
  {
   "cell_type": "code",
   "execution_count": 28,
   "metadata": {},
   "outputs": [
    {
     "data": {
      "text/plain": [
       "Decimal('1.0E+10')"
      ]
     },
     "execution_count": 28,
     "metadata": {},
     "output_type": "execute_result"
    }
   ],
   "source": [
    "temp = Decimal('1.0e10')\n",
    "temp1 = Decimal('10.1')\n",
    "temp2 = temp1+temp\n",
    "temp2.quantize(temp1)\n",
    "temp"
   ]
  },
  {
   "cell_type": "code",
   "execution_count": null,
   "metadata": {},
   "outputs": [],
   "source": []
  }
 ],
 "metadata": {
  "kernelspec": {
   "display_name": "Python 3 (ipykernel)",
   "language": "python",
   "name": "python3"
  },
  "language_info": {
   "codemirror_mode": {
    "name": "ipython",
    "version": 3
   },
   "file_extension": ".py",
   "mimetype": "text/x-python",
   "name": "python",
   "nbconvert_exporter": "python",
   "pygments_lexer": "ipython3",
   "version": "3.11.5"
  }
 },
 "nbformat": 4,
 "nbformat_minor": 4
}
