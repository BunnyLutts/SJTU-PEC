{
 "cells": [
  {
   "cell_type": "code",
   "execution_count": 67,
   "metadata": {},
   "outputs": [],
   "source": [
    "from decimal import Decimal\n",
    "from math import sqrt\n",
    "from typing import Any\n",
    "\n",
    "\n",
    "def calcAvg(x):\n",
    "    sum = Decimal(0)\n",
    "    for i in x:\n",
    "        sum = (sum+i).quantize(Decimal(i))\n",
    "    return (sum/Decimal(len(x))).quantize(Decimal(sum))\n",
    "\n",
    "def calcSigma(x):\n",
    "    avg = calcAvg(x)\n",
    "    sum  = Decimal(0)\n",
    "    for i in x:\n",
    "        sum = (sum+(avg-i)**2)\n",
    "    return (sum/Decimal(len(x)-1).sqrt()).quantize(Decimal(avg))\n",
    "\n",
    "def calcUncertainty(x, d, c):\n",
    "    sigma = calcSigma(x)\n",
    "    delta_a = sigma*c\n",
    "    delta_b = d/c\n",
    "    return (delta_a**2 + delta_b**2).sqrt().quantize(Decimal(x[0]))\n",
    "\n",
    "class ExpData:\n",
    "    def __init__(self, avg:Decimal, uncertainty:Decimal):\n",
    "        if not isinstance(avg, Decimal):\n",
    "            avg = Decimal(avg)\n",
    "        if not isinstance(uncertainty, Decimal):\n",
    "            uncertainty = Decimal(uncertainty)\n",
    "        self.avg = avg\n",
    "        self.u = uncertainty\n",
    "    \n",
    "    def __str__(self):\n",
    "        return f\"avg: {self.avg}, u: {self.u}, ur: {self.u/self.avg}\"\n",
    "\n",
    "    def __repr__(self):\n",
    "        return f\"avg: {self.avg}, u: {self.u}, ur: {self.u/self.avg}\"\n",
    "    \n",
    "    def __add__(self, other):\n",
    "        avg = (self.avg + other.avg).quantize(Decimal(self.avg))\n",
    "        u = (self.u**2 + other.u**2).sqrt().quantize(Decimal(avg))\n",
    "        return ExpData(avg, u)\n",
    "\n",
    "    def __sub__(self, other):\n",
    "        avg = (self.avg - other.avg).quantize(Decimal(self.avg))\n",
    "        u = (self.u**2 + other.u**2).sqrt().quantize(Decimal(avg))\n",
    "        return ExpData(avg, u)\n",
    "\n",
    "    def __mul__(self, other):\n",
    "        avg = (self.avg*other.avg).quantize(Decimal(self.avg))\n",
    "        ur1 = self.u/self.avg\n",
    "        ur2 = other.u/other.avg\n",
    "        ur = (ur1**2 + ur2**2).sqrt()\n",
    "        u = (ur*avg).quantize(Decimal(avg))\n",
    "        return ExpData(avg, u)\n",
    "    \n",
    "    def __truediv__(self, other):\n",
    "        avg = (self.avg/other.avg).quantize(Decimal(self.avg))\n",
    "        ur1 = self.u/self.avg\n",
    "        ur2 = other.u/other.avg\n",
    "        ur = (ur1**2 + ur2**2).sqrt()\n",
    "        u = (ur*avg).quantize(Decimal(avg))\n",
    "        return ExpData(avg, u)\n",
    "    \n",
    "    def __pow__(self, other):\n",
    "        avg = (self.avg**other).quantize(Decimal(self.avg))\n",
    "        ur1 = self.u/self.avg\n",
    "        ur = abs(ur1*other)\n",
    "        u = (ur*avg).quantize(Decimal(avg))\n",
    "        return ExpData(avg, u)\n",
    "\n",
    "\n",
    "def genData(x:list, d, c=1.05):\n",
    "    avg = calcAvg(x)\n",
    "    u = calcUncertainty(x, d, c)\n",
    "    return ExpData(avg, u)\n"
   ]
  },
  {
   "cell_type": "markdown",
   "metadata": {},
   "source": [
    "## 凸透镜\n",
    "### 自准法"
   ]
  },
  {
   "cell_type": "code",
   "execution_count": 50,
   "metadata": {},
   "outputs": [
    {
     "data": {
      "text/plain": [
       "Decimal('16.55')"
      ]
     },
     "execution_count": 50,
     "metadata": {},
     "output_type": "execute_result"
    }
   ],
   "source": [
    "from decimal import Decimal\n",
    "\n",
    "x_1l = ['20.95', '20.45', '20.45', '20.50', '20.80', '20.45']\n",
    "x_1r = ['25.80', '25.25', '25.25', '25.40', '25.65', '25.35']\n",
    "x_2l = ['20.05', '20.15', '20.05', '19.90', '20.20', '19.85']\n",
    "x_2r = ['24.90', '25.00', '24.90', '24.80', '25.10', '24.80']\n",
    "\n",
    "x_1l = [Decimal(x) for x in x_1l]\n",
    "x_1r = [Decimal(x) for x in x_1r]\n",
    "x_2l = [Decimal(x) for x in x_2l]\n",
    "x_2r = [Decimal(x) for x in x_2r]\n",
    "\n",
    "x_1l_avg = calcAvg(x_1l)\n",
    "x_1r_avg = calcAvg(x_1r)\n",
    "x_2l_avg = calcAvg(x_2l)\n",
    "x_2r_avg = calcAvg(x_2r)\n",
    "\n",
    "pos = ((Decimal('1.20')+Decimal('6.60'))/2+(Decimal('22.96')/10)).quantize(Decimal('1.20'))\n",
    "\n",
    "x_avg = ((x_1l_avg+x_1r_avg+x_2l_avg+x_2r_avg)/4).quantize(x_1l_avg)\n",
    "\n",
    "f = (x_avg-pos).quantize(Decimal(x_avg))\n",
    "f"
   ]
  },
  {
   "cell_type": "code",
   "execution_count": 41,
   "metadata": {},
   "outputs": [
    {
     "data": {
      "text/plain": [
       "[Decimal('0.12'), Decimal('0.12'), Decimal('0.06'), Decimal('0.06')]"
      ]
     },
     "execution_count": 41,
     "metadata": {},
     "output_type": "execute_result"
    }
   ],
   "source": [
    "from re import U\n",
    "\n",
    "\n",
    "delta = Decimal('0.05')\n",
    "c = Decimal('1.05')\n",
    "n = 6\n",
    "u_x1l = calcUncertainty(x_1l, delta, c)\n",
    "u_x1r = calcUncertainty(x_1r, delta, c)\n",
    "u_x2l = calcUncertainty(x_2l, delta, c)\n",
    "u_x2r = calcUncertainty(x_2r, delta, c)\n",
    "[u_x1l, u_x1r, u_x2l, u_x2r]"
   ]
  },
  {
   "cell_type": "code",
   "execution_count": 24,
   "metadata": {},
   "outputs": [
    {
     "data": {
      "text/plain": [
       "(Decimal('0.19'), Decimal('0.008351648351648351648351648352'))"
      ]
     },
     "execution_count": 24,
     "metadata": {},
     "output_type": "execute_result"
    }
   ],
   "source": [
    "u_x = (u_x1l**2 + u_x1r**2 + u_x2l**2 + u_x2r**2).sqrt().quantize(u_x1l)\n",
    "u_xr = (u_x/x_avg)\n",
    "(u_x, u_xr)"
   ]
  },
  {
   "cell_type": "markdown",
   "metadata": {},
   "source": [
    "### 共轭法"
   ]
  },
  {
   "cell_type": "code",
   "execution_count": 43,
   "metadata": {},
   "outputs": [
    {
     "data": {
      "text/plain": [
       "avg: 6.20, u: 0"
      ]
     },
     "execution_count": 43,
     "metadata": {},
     "output_type": "execute_result"
    }
   ],
   "source": [
    "x_1ll = ['27.00', '27.00', '27.50', '27.80', '28.10', '28.50']\n",
    "x_1rr = ['31.80', '31.80', '32.30', '32.60', '33.00', '33.30']\n",
    "x_2ll = ['54.05', '54.40', '53.45', '52.70', '53.10', '53.10']\n",
    "x_2rr = ['58.95', '59.20', '58.30', '57.50', '58.00', '58.00']\n",
    "\n",
    "x_1ll = [Decimal(x) for x in x_1ll]\n",
    "x_1rr = [Decimal(x) for x in x_1rr]\n",
    "x_2ll = [Decimal(x) for x in x_2ll]\n",
    "x_2rr = [Decimal(x) for x in x_2rr]\n",
    "\n",
    "x_1l = genData(x_1ll, delta, c)\n",
    "x_1r = genData(x_1rr, delta, c)\n",
    "x_2l = genData(x_2ll, delta, c)\n",
    "x_2r = genData(x_2rr, delta, c)\n",
    "pos = ExpData(pos, 0)\n",
    "pos"
   ]
  },
  {
   "cell_type": "code",
   "execution_count": 44,
   "metadata": {},
   "outputs": [
    {
     "data": {
      "text/plain": [
       "avg: 80.62, u: 0"
      ]
     },
     "execution_count": 44,
     "metadata": {},
     "output_type": "execute_result"
    }
   ],
   "source": [
    "pos_t = ((Decimal('78.45')+Decimal('82.80'))/2).quantize(Decimal('78.45'))\n",
    "pos_t = ExpData(pos_t, 0)\n",
    "pos_t"
   ]
  },
  {
   "cell_type": "code",
   "execution_count": 49,
   "metadata": {},
   "outputs": [
    {
     "data": {
      "text/plain": [
       "avg: 16.34, u: 0.11, ur: 0.006731946144430844553243574051"
      ]
     },
     "execution_count": 49,
     "metadata": {},
     "output_type": "execute_result"
    }
   ],
   "source": [
    "D = pos_t - pos\n",
    "x_1 = (x_1l+x_1r)/ExpData(Decimal(2), 0)\n",
    "x_2 = (x_2l+x_2r)/ExpData(Decimal(2), 0)\n",
    "d = x_2-x_1\n",
    "f = (D**2-d**2)/(ExpData(Decimal(4), 0)*D)\n",
    "f"
   ]
  },
  {
   "cell_type": "markdown",
   "metadata": {},
   "source": [
    "## 凹透镜\n",
    "### 物距像距法"
   ]
  },
  {
   "cell_type": "code",
   "execution_count": 65,
   "metadata": {},
   "outputs": [],
   "source": [
    "x_1ll = ['59.20', '58.95', '59.30', '58.75', '59.30', '59.10']\n",
    "x_1rr = ['64.10', '63.85', '64.20', '63.65', '64.20', '64.00']\n",
    "x_2ll = ['59.70', '59.10', '59.65', '58.90', '59.55', '59.15']\n",
    "x_2rr = ['64.60', '64.00', '64.55', '63.80', '64.45', '64.15']\n",
    "\n",
    "x_1ll = [Decimal(x) for x in x_1ll]\n",
    "x_1rr = [Decimal(x) for x in x_1rr]\n",
    "x_2ll = [Decimal(x) for x in x_2ll]\n",
    "x_2rr = [Decimal(x) for x in x_2rr]\n",
    "\n",
    "x_1l = genData(x_1ll, delta, c)\n",
    "x_1r = genData(x_1rr, delta, c)\n",
    "x_2l = genData(x_2ll, delta, c)\n",
    "x_2r = genData(x_2rr, delta, c)\n",
    "\n",
    "A_1 = ((Decimal('71.40')+Decimal('76.30'))/2).quantize(Decimal('71.40'))\n",
    "A_2 = ((Decimal('91.75')+Decimal('96.65'))/2).quantize(Decimal('91.75'))\n",
    "A_1 = ExpData(A_1, 0)\n",
    "A_2 = ExpData(A_2, 0)"
   ]
  },
  {
   "cell_type": "code",
   "execution_count": 70,
   "metadata": {},
   "outputs": [
    {
     "data": {
      "text/plain": [
       "(avg: 9.09, u: 0.00, ur: 0,\n",
       " avg: 0.08, u: 0.00, ur: 0,\n",
       " avg: 12.17, u: 0.10, ur: 0.008216926869350862777321281841,\n",
       " avg: 61.68, u: 0.10, ur: 0.001621271076523994811932555123)"
      ]
     },
     "execution_count": 70,
     "metadata": {},
     "output_type": "execute_result"
    }
   ],
   "source": [
    "x_1 = (x_1l + x_1r) / ExpData(2, 0)\n",
    "x_2 = (x_2l + x_2r) / ExpData(2, 0)\n",
    "x = (x_1 + x_2) / ExpData(2, 0)\n",
    "s = A_1 - x\n",
    "s_ = A_2 - x\n",
    "f = (s**(-1)+s_**(-1))**(-1)\n",
    "f, s**(-1), s, x"
   ]
  },
  {
   "cell_type": "code",
   "execution_count": null,
   "metadata": {},
   "outputs": [],
   "source": []
  }
 ],
 "metadata": {
  "kernelspec": {
   "display_name": "Python 3 (ipykernel)",
   "language": "python",
   "name": "python3"
  },
  "language_info": {
   "codemirror_mode": {
    "name": "ipython",
    "version": 3
   },
   "file_extension": ".py",
   "mimetype": "text/x-python",
   "name": "python",
   "nbconvert_exporter": "python",
   "pygments_lexer": "ipython3",
   "version": "3.11.5"
  }
 },
 "nbformat": 4,
 "nbformat_minor": 2
}
