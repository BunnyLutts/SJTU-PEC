{
 "cells": [
  {
   "cell_type": "code",
   "execution_count": 106,
   "metadata": {},
   "outputs": [],
   "source": [
    "from decimal import Decimal\n",
    "from math import sqrt\n",
    "from typing import Any\n",
    "\n",
    "\n",
    "def calcAvg(x):\n",
    "    sum = 0\n",
    "    for i in x:\n",
    "        sum = sum+i\n",
    "    return sum/len(x)\n",
    "\n",
    "def calcSigma(x):\n",
    "    avg = calcAvg(x)\n",
    "    sum  = 0\n",
    "    for i in x:\n",
    "        sum = (sum+(avg-i)**2)\n",
    "    return sqrt(sum/(len(x)-1))\n",
    "\n",
    "def calcUncertainty(x, d, c):\n",
    "    sigma = calcSigma(x)\n",
    "    delta_a = sigma*c\n",
    "    delta_b = d/c\n",
    "    return sqrt(delta_a**2 + delta_b**2)\n",
    "\n",
    "class ExpData:\n",
    "    def __init__(self, avg, uncertainty):\n",
    "        self.avg = avg\n",
    "        self.u = uncertainty\n",
    "    \n",
    "    def __str__(self):\n",
    "        return f\"avg: {self.avg}, u: {self.u}, ur: {self.u/self.avg}\"\n",
    "\n",
    "    def __repr__(self):\n",
    "        return f\"avg: {self.avg}, u: {self.u}, ur: {self.u/self.avg}\"\n",
    "    \n",
    "    def __add__(self, other):\n",
    "        avg = self.avg + other.avg\n",
    "        u = sqrt(self.u**2 + other.u**2)\n",
    "        return ExpData(avg, u)\n",
    "\n",
    "    def __sub__(self, other):\n",
    "        avg = self.avg - other.avg\n",
    "        u = sqrt(self.u**2 + other.u**2)\n",
    "        return ExpData(avg, u)\n",
    "\n",
    "    def __mul__(self, other):\n",
    "        avg = self.avg*other.avg\n",
    "        ur1 = self.u/self.avg\n",
    "        ur2 = other.u/other.avg\n",
    "        ur = sqrt(ur1**2 + ur2**2)\n",
    "        u = ur*avg\n",
    "        return ExpData(avg, u)\n",
    "    \n",
    "    def __truediv__(self, other):\n",
    "        avg = self.avg/other.avg\n",
    "        ur1 = self.u/self.avg\n",
    "        ur2 = other.u/other.avg\n",
    "        ur = sqrt(ur1**2 + ur2**2)\n",
    "        u = ur*avg\n",
    "        return ExpData(avg, u)\n",
    "    \n",
    "    def __pow__(self, other):\n",
    "        avg = self.avg**other\n",
    "        ur1 = self.u/self.avg\n",
    "        ur = abs(ur1*other)\n",
    "        u = ur*avg\n",
    "        return ExpData(avg, u)\n",
    "\n",
    "\n",
    "def genData(x:list, d, c=1.05):\n",
    "    avg = calcAvg(x)\n",
    "    u = calcUncertainty(x, d, c)\n",
    "    return ExpData(avg, u)\n",
    "\n",
    "def cons(x) :\n",
    "    return ExpData(x, 0)\n"
   ]
  },
  {
   "cell_type": "markdown",
   "metadata": {},
   "source": [
    "## 凸透镜\n",
    "### 自准法"
   ]
  },
  {
   "cell_type": "code",
   "execution_count": 107,
   "metadata": {},
   "outputs": [],
   "source": [
    "delta = float('0.05')\n",
    "c = float('1.05')\n",
    "n = 6"
   ]
  },
  {
   "cell_type": "code",
   "execution_count": 108,
   "metadata": {},
   "outputs": [
    {
     "data": {
      "text/plain": [
       "avg: 16.554000000000002, u: 0.09806416738052835, ur: 0.0059238955769317595"
      ]
     },
     "execution_count": 108,
     "metadata": {},
     "output_type": "execute_result"
    }
   ],
   "source": [
    "from decimal import Decimal\n",
    "\n",
    "x_1ll = ['20.95', '20.45', '20.45', '20.50', '20.80', '20.45']\n",
    "x_1rr = ['25.80', '25.25', '25.25', '25.40', '25.65', '25.35']\n",
    "x_2ll = ['20.05', '20.15', '20.05', '19.90', '20.20', '19.85']\n",
    "x_2rr = ['24.90', '25.00', '24.90', '24.80', '25.10', '24.80']\n",
    "\n",
    "x_1ll = [float(x) for x in x_1ll]\n",
    "x_1rr = [float(x) for x in x_1rr]\n",
    "x_2ll = [float(x) for x in x_2ll]\n",
    "x_2rr = [float(x) for x in x_2rr]\n",
    "\n",
    "x_1l = genData(x_1ll, delta, c)\n",
    "x_1r = genData(x_1rr, delta, c)\n",
    "x_2l = genData(x_2ll, delta, c)\n",
    "x_2r = genData(x_2rr, delta, c)\n",
    "\n",
    "pos = ExpData((float('1.20')+float('6.60'))/2+float('22.96')/10, 0)\n",
    "\n",
    "x = ((x_1l+x_1r)/cons(2)+(x_2l+x_2r)/cons(2))/cons(2)\n",
    "\n",
    "f = x-pos\n",
    "f"
   ]
  },
  {
   "cell_type": "code",
   "execution_count": 109,
   "metadata": {},
   "outputs": [
    {
     "name": "stdout",
     "output_type": "stream",
     "text": [
      "0.047619047619047616\n",
      "avg: 6.196, u: 0, ur: 0.0\n",
      "x_1l avg: 20.599999999999998, u: 0.2349203560701908, ur: 0.01140390078010635 Sigma: 0.21908902300206665\n",
      "x_1r avg: 25.45, u: 0.24185754835469797, ur: 0.009503243550282828 Sigma: 0.2258317958127242\n",
      "x_2l avg: 20.033333333333335, u: 0.1511541388654144, ur: 0.007545131723731167 Sigma: 0.13662601021279416\n",
      "x_2r avg: 24.916666666666668, u: 0.13166272705722448, ur: 0.0052841228250391096 Sigma: 0.11690451944500146\n",
      "avg: 22.75, u: 0.09806416738052835, ur: 0.004310512851891356\n"
     ]
    }
   ],
   "source": [
    "print(0.05/1.05)\n",
    "print(pos)\n",
    "print('x_1l', x_1l, 'Sigma:', calcSigma(x_1ll))\n",
    "print('x_1r', x_1r, 'Sigma:', calcSigma(x_1rr))\n",
    "print('x_2l', x_2l, 'Sigma:', calcSigma(x_2ll))\n",
    "print('x_2r', x_2r, 'Sigma:', calcSigma(x_2rr))\n",
    "print(x)"
   ]
  },
  {
   "cell_type": "markdown",
   "metadata": {},
   "source": [
    "### 共轭法"
   ]
  },
  {
   "cell_type": "code",
   "execution_count": 110,
   "metadata": {},
   "outputs": [],
   "source": [
    "x_1ll = ['27.00', '27.00', '27.50', '27.80', '28.10', '28.50']\n",
    "x_1rr = ['31.80', '31.80', '32.30', '32.60', '33.00', '33.30']\n",
    "x_2ll = ['54.05', '54.40', '53.45', '52.70', '53.10', '53.10']\n",
    "x_2rr = ['58.95', '59.20', '58.30', '57.50', '58.00', '58.00']\n",
    "\n",
    "x_1ll = [float(x) for x in x_1ll]\n",
    "x_1rr = [float(x) for x in x_1rr]\n",
    "x_2ll = [float(x) for x in x_2ll]\n",
    "x_2rr = [float(x) for x in x_2rr]\n",
    "\n",
    "x_1l = genData(x_1ll, delta, c)\n",
    "x_1r = genData(x_1rr, delta, c)\n",
    "x_2l = genData(x_2ll, delta, c)\n",
    "x_2r = genData(x_2rr, delta, c)"
   ]
  },
  {
   "cell_type": "code",
   "execution_count": 111,
   "metadata": {},
   "outputs": [
    {
     "data": {
      "text/plain": [
       "avg: 80.625, u: 0, ur: 0.0"
      ]
     },
     "execution_count": 111,
     "metadata": {},
     "output_type": "execute_result"
    }
   ],
   "source": [
    "pos_t = (float('78.45')+float('82.80'))/2\n",
    "pos_t = ExpData(pos_t, 0)\n",
    "pos_t"
   ]
  },
  {
   "cell_type": "code",
   "execution_count": 112,
   "metadata": {},
   "outputs": [
    {
     "data": {
      "text/plain": [
       "avg: 16.364923735204023, u: 0.11444483333224093, ur: 0.006993300743959387"
      ]
     },
     "execution_count": 112,
     "metadata": {},
     "output_type": "execute_result"
    }
   ],
   "source": [
    "D = pos_t - pos\n",
    "x_1 = (x_1l+x_1r)/ExpData(2, 0)\n",
    "x_2 = (x_2l+x_2r)/ExpData(2, 0)\n",
    "d = x_2-x_1\n",
    "f = (D**2-d**2)/(ExpData(4, 0)*D)\n",
    "f"
   ]
  },
  {
   "cell_type": "code",
   "execution_count": 113,
   "metadata": {},
   "outputs": [
    {
     "name": "stdout",
     "output_type": "stream",
     "text": [
      "avg: 74.429, u: 0.0, ur: 0.0\n",
      "avg: 25.83749999999999, u: 0.6593528398711458, ur: 0.025519219733764722\n",
      "x_1l avg: 27.650000000000002, u: 0.6344092320388673, ur: 0.022944276023105507 Sigma: 0.602494813255683\n",
      "x_1r avg: 32.46666666666667, u: 0.6512738085445661, ur: 0.02005976823032544 Sigma: 0.618600571181975\n",
      "x_1 avg: 30.058333333333337, u: 0.4545967024166282, ur: 0.015123815993899467\n",
      "x_2 avg: 55.89583333333333, u: 0.4775856002834176, ur: 0.008544207533956037\n",
      "x_2l avg: 53.46666666666667, u: 0.6770044857282279, ur: 0.012662178660752392 Sigma: 0.6431692364118982\n",
      "x_2r avg: 58.324999999999996, u: 0.6738077980375019, ur: 0.011552641200814435 Sigma: 0.6401171767731293\n",
      "avg: 22.75, u: 0.09806416738052835, ur: 0.004310512851891356\n"
     ]
    }
   ],
   "source": [
    "print(D)\n",
    "print(d)\n",
    "print('x_1l', x_1l, 'Sigma:', calcSigma(x_1ll))\n",
    "print('x_1r', x_1r, 'Sigma:', calcSigma(x_1rr))\n",
    "print('x_1', x_1)\n",
    "print('x_2', x_2)\n",
    "print('x_2l', x_2l, 'Sigma:', calcSigma(x_2ll))\n",
    "print('x_2r', x_2r, 'Sigma:', calcSigma(x_2rr))\n",
    "print(x)"
   ]
  },
  {
   "cell_type": "markdown",
   "metadata": {},
   "source": [
    "## 凹透镜\n",
    "### 物距像距法"
   ]
  },
  {
   "cell_type": "code",
   "execution_count": 114,
   "metadata": {},
   "outputs": [],
   "source": [
    "x_1ll = ['59.20', '58.95', '59.30', '58.75', '59.30', '59.10']\n",
    "x_1rr = ['64.10', '63.85', '64.20', '63.65', '64.20', '64.00']\n",
    "x_2ll = ['59.70', '59.10', '59.65', '58.90', '59.55', '59.15']\n",
    "x_2rr = ['64.60', '64.00', '64.55', '63.80', '64.45', '64.15']\n",
    "\n",
    "x_1ll = [float(x) for x in x_1ll]\n",
    "x_1rr = [float(x) for x in x_1rr]\n",
    "x_2ll = [float(x) for x in x_2ll]\n",
    "x_2rr = [float(x) for x in x_2rr]\n",
    "\n",
    "x_1l = genData(x_1ll, delta, c)\n",
    "x_1r = genData(x_1rr, delta, c)\n",
    "x_2l = genData(x_2ll, delta, c)\n",
    "x_2r = genData(x_2rr, delta, c)\n",
    "\n",
    "A_1 = (float('71.40')+float('76.30'))/2\n",
    "A_2 = (float('91.75')+float('96.65'))/2\n",
    "A_1 = ExpData(A_1, 0)\n",
    "A_2 = ExpData(A_2, 0)"
   ]
  },
  {
   "cell_type": "code",
   "execution_count": 115,
   "metadata": {},
   "outputs": [
    {
     "data": {
      "text/plain": [
       "(avg: 8.858878635346754, u: 0.07926973930884156, ur: 0.008948055681963723,\n",
       " avg: 0.08213552361396306, u: 0.0010002942954861717, ur: 0.012178583047544137,\n",
       " avg: 12.174999999999997, u: 0.1482742486038498, ur: 0.012178583047544135,\n",
       " avg: 61.675, u: 0.1482742486038498, ur: 0.0024041223932525302)"
      ]
     },
     "execution_count": 115,
     "metadata": {},
     "output_type": "execute_result"
    }
   ],
   "source": [
    "x_1 = (x_1l + x_1r) / ExpData(2, 0)\n",
    "x_2 = (x_2l + x_2r) / ExpData(2, 0)\n",
    "x = (x_1 + x_2) / ExpData(2, 0)\n",
    "s = A_1 - x\n",
    "s_ = A_2 - x\n",
    "f = (s**(-1)+s_**(-1))**(-1)\n",
    "f, s**(-1), s, x"
   ]
  },
  {
   "cell_type": "code",
   "execution_count": 116,
   "metadata": {},
   "outputs": [
    {
     "name": "stdout",
     "output_type": "stream",
     "text": [
      "A_1 avg: 73.85, u: 0, ur: 0.0\n",
      "A_2 avg: 94.2, u: 0, ur: 0.0\n",
      "x_1l avg: 59.1, u: 0.23256197818247196, ur: 0.003935058852495296\n",
      "x_1r avg: 64.0, u: 0.23256197818247398, ur: 0.003633780909101156\n",
      "x_2l avg: 59.34166666666667, u: 0.35370107251200894, ur: 0.005960416893897075\n",
      "x_2r avg: 64.25833333333333, u: 0.3442229636386051, ur: 0.005356861060385503\n",
      "x_1 avg: 61.55, u: 0.16444615181898456, ur: 0.002671749014118352\n",
      "x_2 avg: 61.8, u: 0.2467761624389043, ur: 0.0039931417870372864\n",
      "x avg: 61.675, u: 0.1482742486038498, ur: 0.0024041223932525302\n",
      "s avg: 12.174999999999997, u: 0.1482742486038498, ur: 0.012178583047544135\n",
      "s_ avg: 32.525000000000006, u: 0.1482742486038498, ur: 0.004558777820256718\n"
     ]
    }
   ],
   "source": [
    "print('A_1', A_1)\n",
    "print('A_2', A_2)\n",
    "print('x_1l', x_1l)\n",
    "print('x_1r', x_1r)\n",
    "print('x_2l', x_2l)\n",
    "print('x_2r', x_2r)\n",
    "print('x_1', x_1)\n",
    "print('x_2', x_2)\n",
    "print('x', x)\n",
    "print('s', s)\n",
    "print('s_', s_)"
   ]
  }
 ],
 "metadata": {
  "kernelspec": {
   "display_name": "Python 3 (ipykernel)",
   "language": "python",
   "name": "python3"
  }
 },
 "nbformat": 4,
 "nbformat_minor": 2
}
