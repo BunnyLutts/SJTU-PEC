{
 "cells": [
  {
   "cell_type": "code",
   "execution_count": 35,
   "metadata": {},
   "outputs": [],
   "source": [
    "import numpy as np\n",
    "import pandas as pd\n",
    "\n",
    "N1 = 1426\n",
    "L = 0.240\n",
    "Di = 0.090\n",
    "De = 0.100\n",
    "l = 0.199\n",
    "l_ = 0.107\n",
    "\n",
    "a = pd.read_csv('a.csv')"
   ]
  },
  {
   "cell_type": "code",
   "execution_count": 36,
   "metadata": {},
   "outputs": [
    {
     "name": "stdout",
     "output_type": "stream",
     "text": [
      "K = 9.445509e+13\n"
     ]
    }
   ],
   "source": [
    "x0 = l/2\n",
    "K = L**2 * 1e14 / ((np.sqrt((Di/2)**2 + (L/2 + x0)**2) - np.sqrt((Di/2)**2 + (L/2 - x0)**2))**2 * 2)\n",
    "print(f\"K = {K:e}\")\n",
    "\n",
    "from expr import genData, genOneData, cons"
   ]
  },
  {
   "cell_type": "code",
   "execution_count": 37,
   "metadata": {},
   "outputs": [
    {
     "name": "stdout",
     "output_type": "stream",
     "text": [
      "Ua=850\n",
      "II1 = avg: 4.785000e-01, u: 1.257796e-02, ur: 2.628623e-02\n",
      "II2 = avg: 9.641667e-01, u: 1.329789e-02, ur: 1.379211e-02\n",
      "II3 = avg: 1.453167e+00, u: 2.708690e-02, ur: 1.863991e-02\n",
      "III1 = avg: 4.856667e-01, u: 8.315834e-03, ur: 1.712251e-02\n",
      "III2 = avg: 9.686667e-01, u: 1.681423e-02, ur: 1.735812e-02\n",
      "III3 = avg: 1.459667e+00, u: 1.404607e-02, ur: 9.622796e-03\n",
      "I1 = avg: 4.820833e-01, u: 7.539201e-03, ur: 1.563879e-02\n",
      "I2 = avg: 9.664167e-01, u: 1.071858e-02, ur: 1.109106e-02\n",
      "I3 = avg: 1.456417e+00, u: 1.525608e-02, ur: 1.047508e-02\n",
      "I = avg: 4.841528e-01, u: 3.351930e-03, ur: 6.923290e-03\n",
      "e/m = avg: 1.684381e+11, u: 2.334200e+09, ur: 1.385791e-02\n",
      "\n",
      "\n",
      "Ua=900\n",
      "II1 = avg: 4.821667e-01, u: 1.014811e-02, ur: 2.104690e-02\n",
      "II2 = avg: 9.793333e-01, u: 7.292846e-03, ur: 7.446745e-03\n",
      "II3 = avg: 1.471000e+00, u: 3.069054e-02, ur: 2.086373e-02\n",
      "III1 = avg: 4.993333e-01, u: 8.529114e-03, ur: 1.708100e-02\n",
      "III2 = avg: 9.965000e-01, u: 2.822243e-02, ur: 2.832156e-02\n",
      "III3 = avg: 1.481667e+00, u: 2.057261e-02, ur: 1.388477e-02\n",
      "I1 = avg: 4.907500e-01, u: 6.628159e-03, ur: 1.350618e-02\n",
      "I2 = avg: 9.879167e-01, u: 1.457473e-02, ur: 1.475300e-02\n",
      "I3 = avg: 1.476333e+00, u: 1.847391e-02, ur: 1.251337e-02\n",
      "I = avg: 4.925000e-01, u: 4.074449e-03, ur: 8.272992e-03\n",
      "e/m = avg: 1.723520e+11, u: 2.853191e+09, ur: 1.655444e-02\n",
      "\n",
      "\n",
      "Ua=950\n",
      "II1 = avg: 5.031667e-01, u: 1.034292e-02, ur: 2.055566e-02\n",
      "II2 = avg: 1.003333e+00, u: 1.155085e-02, ur: 1.151248e-02\n",
      "II3 = avg: 1.524500e+00, u: 1.448103e-02, ur: 9.498873e-03\n",
      "III1 = avg: 4.975000e-01, u: 1.105795e-02, ur: 2.222704e-02\n",
      "III2 = avg: 1.013500e+00, u: 2.004269e-02, ur: 1.977572e-02\n",
      "III3 = avg: 1.521500e+00, u: 1.076528e-02, ur: 7.075439e-03\n",
      "I1 = avg: 5.003333e-01, u: 7.570574e-03, ur: 1.513106e-02\n",
      "I2 = avg: 1.008417e+00, u: 1.156646e-02, ur: 1.146992e-02\n",
      "I3 = avg: 1.523000e+00, u: 9.022078e-03, ur: 5.923886e-03\n",
      "I = avg: 5.052917e-01, u: 2.751234e-03, ur: 5.444843e-03\n",
      "e/m = avg: 1.728326e+11, u: 1.884086e+09, ur: 1.090122e-02\n",
      "\n",
      "\n"
     ]
    }
   ],
   "source": [
    "def calculate_a(Ua):\n",
    "    II1 = genData(x = a[a['U'] == Ua]['II1'], d=0.0005)\n",
    "    II2 = genData(x = a[a['U'] == Ua]['II2'], d=0.0005)\n",
    "    II3 = genData(x = a[a['U'] == Ua]['II3'], d=0.0005)\n",
    "    III1 = genData(x = a[a['U'] == Ua]['III1'], d=0.0005)\n",
    "    III2 = genData(x = a[a['U'] == Ua]['III2'], d=0.0005)\n",
    "    III3 = genData(x = a[a['U'] == Ua]['III3'], d=0.0005)\n",
    "\n",
    "    I1 = (II1 + III1) / cons(2)\n",
    "    I2 = (II2 + III2) / cons(2)\n",
    "    I3 = (II3 + III3) / cons(2)\n",
    "    I = (I1 + I2 + I3) / cons(1 + 2 + 3)\n",
    "    print(f\"II1 = {II1}\\nII2 = {II2}\\nII3 = {II3}\\nIII1 = {III1}\\nIII2 = {III2}\\nIII3 = {III3}\\nI1 = {I1}\\nI2 = {I2}\\nI3 = {I3}\\nI = {I}\")\n",
    "\n",
    "    e_m = cons(K) * genOneData(Ua, d=0.5) / (cons(N1**2) * I**2)\n",
    "    print(f\"e/m = {e_m}\")\n",
    "    return e_m\n",
    "\n",
    "for Ua in a['U'].unique():\n",
    "    print(f\"Ua={Ua}\")\n",
    "    calculate_a(Ua)\n",
    "    print(\"\\n\")"
   ]
  },
  {
   "cell_type": "code",
   "execution_count": 38,
   "metadata": {},
   "outputs": [
    {
     "name": "stdout",
     "output_type": "stream",
     "text": [
      "c=3.267111e+14\n"
     ]
    }
   ],
   "source": [
    "N2 = 1337\n",
    "c = K * l**2 / l_**2\n",
    "print(f\"c={c:e}\")"
   ]
  },
  {
   "cell_type": "code",
   "execution_count": 39,
   "metadata": {},
   "outputs": [
    {
     "name": "stdout",
     "output_type": "stream",
     "text": [
      "X axis:\n",
      "Ua=850, theta=pi/4\n",
      "I = avg: 2.396667e-01, u: 7.821083e-03, ur: 3.263317e-02\n",
      "e/m = avg: 1.690382e+11, u: 1.103291e+10, ur: 6.526875e-02\n",
      "\n",
      "\n",
      "Ua=950, theta=pi/4\n",
      "I = avg: 2.510000e-01, u: 7.596692e-03, ur: 3.026570e-02\n",
      "e/m = avg: 1.722492e+11, u: 1.042685e+10, ur: 6.053348e-02\n",
      "\n",
      "\n",
      "Ua=850, theta=pi/2\n",
      "I = avg: 4.891667e-01, u: 7.119739e-03, ur: 1.455483e-02\n",
      "e/m = avg: 1.623104e+11, u: 4.725676e+09, ur: 2.911506e-02\n",
      "\n",
      "\n",
      "Ua=950, theta=pi/2\n",
      "I = avg: 5.165000e-01, u: 3.807585e-03, ur: 7.371897e-03\n",
      "e/m = avg: 1.627137e+11, u: 2.400403e+09, ur: 1.475231e-02\n",
      "\n",
      "\n",
      "Ua=850, theta=pi/1\n",
      "I = avg: 9.263333e-01, u: 4.862689e-03, ur: 5.249394e-03\n",
      "e/m = avg: 1.810446e+11, u: 1.903453e+09, ur: 1.051373e-02\n",
      "\n",
      "\n",
      "Ua=950, theta=pi/1\n",
      "I = avg: 9.811667e-01, u: 4.642199e-03, ur: 4.731305e-03\n",
      "e/m = avg: 1.803596e+11, u: 1.709065e+09, ur: 9.475877e-03\n",
      "\n",
      "\n"
     ]
    },
    {
     "name": "stderr",
     "output_type": "stream",
     "text": [
      "C:\\Users\\24182\\AppData\\Local\\Temp\\ipykernel_25724\\1108471739.py:4: UserWarning: Boolean Series key will be reindexed to match DataFrame index.\n",
      "  I = genData(x = b[b['pi/theta'] == p_t][b['U'] == Ua]['I'], d=0.0005)\n",
      "C:\\Users\\24182\\AppData\\Local\\Temp\\ipykernel_25724\\1108471739.py:4: UserWarning: Boolean Series key will be reindexed to match DataFrame index.\n",
      "  I = genData(x = b[b['pi/theta'] == p_t][b['U'] == Ua]['I'], d=0.0005)\n",
      "C:\\Users\\24182\\AppData\\Local\\Temp\\ipykernel_25724\\1108471739.py:4: UserWarning: Boolean Series key will be reindexed to match DataFrame index.\n",
      "  I = genData(x = b[b['pi/theta'] == p_t][b['U'] == Ua]['I'], d=0.0005)\n",
      "C:\\Users\\24182\\AppData\\Local\\Temp\\ipykernel_25724\\1108471739.py:4: UserWarning: Boolean Series key will be reindexed to match DataFrame index.\n",
      "  I = genData(x = b[b['pi/theta'] == p_t][b['U'] == Ua]['I'], d=0.0005)\n",
      "C:\\Users\\24182\\AppData\\Local\\Temp\\ipykernel_25724\\1108471739.py:4: UserWarning: Boolean Series key will be reindexed to match DataFrame index.\n",
      "  I = genData(x = b[b['pi/theta'] == p_t][b['U'] == Ua]['I'], d=0.0005)\n",
      "C:\\Users\\24182\\AppData\\Local\\Temp\\ipykernel_25724\\1108471739.py:4: UserWarning: Boolean Series key will be reindexed to match DataFrame index.\n",
      "  I = genData(x = b[b['pi/theta'] == p_t][b['U'] == Ua]['I'], d=0.0005)\n"
     ]
    }
   ],
   "source": [
    "b_x = pd.read_csv('b_x.csv')\n",
    "\n",
    "def calculate_b(Ua, p_t, b):\n",
    "    I = genData(x = b[b['pi/theta'] == p_t][b['U'] == Ua]['I'], d=0.0005)\n",
    "    print(f\"I = {I}\")\n",
    "    e_m = cons(c) * genOneData(Ua, d=0.5) / (cons(N2**2 * p_t**2) * I**2)\n",
    "    print(f\"e/m = {e_m}\")\n",
    "    return e_m\n",
    "\n",
    "print('X axis:')\n",
    "for p_t in b_x['pi/theta'].unique():\n",
    "    for Ua in b_x[b_x['pi/theta'] == p_t]['U'].unique():\n",
    "        print(f\"Ua={Ua}, theta=pi/{p_t}\")\n",
    "        calculate_b(Ua, p_t, b_x)\n",
    "        print(\"\\n\")"
   ]
  },
  {
   "cell_type": "code",
   "execution_count": 45,
   "metadata": {},
   "outputs": [
    {
     "name": "stdout",
     "output_type": "stream",
     "text": [
      "Y axis:\n",
      "p_t = {p_t}, Ua={Ua}\n",
      "I = avg: 1.861667e-01, u: 7.789118e-03, ur: 4.183949e-02\n",
      "ll = avg: 1.350742e-01, u: 5.651563e-03, ur: 4.184043e-02\n",
      "\n",
      "p_t = {p_t}, Ua={Ua}\n",
      "I = avg: 1.845000e-01, u: 2.552245e-03, ur: 1.383331e-02\n",
      "ll = avg: 1.440888e-01, u: 1.993553e-03, ur: 1.383558e-02\n",
      "\n",
      "p_t = {p_t}, Ua={Ua}\n",
      "I = avg: 3.436667e-01, u: 1.445556e-03, ur: 4.206273e-03\n",
      "ll = avg: 1.463413e-01, u: 6.169149e-04, ur: 4.215589e-03\n",
      "\n",
      "p_t = {p_t}, Ua={Ua}\n",
      "I = avg: 3.696667e-01, u: 2.466071e-03, ur: 6.671066e-03\n",
      "ll = avg: 1.438290e-01, u: 9.601695e-04, ur: 6.675772e-03\n",
      "\n",
      "p_t = {p_t}, Ua={Ua}\n",
      "I = avg: 7.130000e-01, u: 8.371650e-03, ur: 1.174145e-02\n",
      "ll = avg: 1.410733e-01, u: 1.656876e-03, ur: 1.174479e-02\n",
      "\n",
      "p_t = {p_t}, Ua={Ua}\n",
      "I = avg: 7.395000e-01, u: 5.519528e-03, ur: 7.463865e-03\n",
      "ll = avg: 1.437966e-01, u: 1.073883e-03, ur: 7.468072e-03\n",
      "\n"
     ]
    },
    {
     "name": "stderr",
     "output_type": "stream",
     "text": [
      "C:\\Users\\24182\\AppData\\Local\\Temp\\ipykernel_25724\\3616270817.py:7: UserWarning: Boolean Series key will be reindexed to match DataFrame index.\n",
      "  I = genData(x = b_y[b_y['pi/theta'] == p_t][b_y['U'] == Ua]['I'], d=0.0005)\n",
      "C:\\Users\\24182\\AppData\\Local\\Temp\\ipykernel_25724\\3616270817.py:7: UserWarning: Boolean Series key will be reindexed to match DataFrame index.\n",
      "  I = genData(x = b_y[b_y['pi/theta'] == p_t][b_y['U'] == Ua]['I'], d=0.0005)\n",
      "C:\\Users\\24182\\AppData\\Local\\Temp\\ipykernel_25724\\3616270817.py:7: UserWarning: Boolean Series key will be reindexed to match DataFrame index.\n",
      "  I = genData(x = b_y[b_y['pi/theta'] == p_t][b_y['U'] == Ua]['I'], d=0.0005)\n",
      "C:\\Users\\24182\\AppData\\Local\\Temp\\ipykernel_25724\\3616270817.py:7: UserWarning: Boolean Series key will be reindexed to match DataFrame index.\n",
      "  I = genData(x = b_y[b_y['pi/theta'] == p_t][b_y['U'] == Ua]['I'], d=0.0005)\n",
      "C:\\Users\\24182\\AppData\\Local\\Temp\\ipykernel_25724\\3616270817.py:7: UserWarning: Boolean Series key will be reindexed to match DataFrame index.\n",
      "  I = genData(x = b_y[b_y['pi/theta'] == p_t][b_y['U'] == Ua]['I'], d=0.0005)\n",
      "C:\\Users\\24182\\AppData\\Local\\Temp\\ipykernel_25724\\3616270817.py:7: UserWarning: Boolean Series key will be reindexed to match DataFrame index.\n",
      "  I = genData(x = b_y[b_y['pi/theta'] == p_t][b_y['U'] == Ua]['I'], d=0.0005)\n"
     ]
    }
   ],
   "source": [
    "b_y = pd.read_csv('b_y.csv')\n",
    "e_m = 1.758e11\n",
    "print('Y axis:')\n",
    "for p_t in b_y['pi/theta'].unique():\n",
    "    for Ua in b_y[b_y['pi/theta'] == p_t]['U'].unique():\n",
    "        print(\"p_t = {p_t}, Ua={Ua}\")\n",
    "        I = genData(x = b_y[b_y['pi/theta'] == p_t][b_y['U'] == Ua]['I'], d=0.0005)\n",
    "        print(f\"I = {I}\")\n",
    "        ll = (cons(K * l**2) * genOneData(Ua, d=0.5) / (cons(e_m * N2**2 * p_t**2) * I**2))**0.5\n",
    "        print(f\"ll = {ll}\\n\")"
   ]
  },
  {
   "cell_type": "code",
   "execution_count": null,
   "metadata": {},
   "outputs": [],
   "source": []
  }
 ],
 "metadata": {
  "kernelspec": {
   "display_name": "base",
   "language": "python",
   "name": "python3"
  },
  "language_info": {
   "codemirror_mode": {
    "name": "ipython",
    "version": 3
   },
   "file_extension": ".py",
   "mimetype": "text/x-python",
   "name": "python",
   "nbconvert_exporter": "python",
   "pygments_lexer": "ipython3",
   "version": "3.12.7"
  }
 },
 "nbformat": 4,
 "nbformat_minor": 2
}
