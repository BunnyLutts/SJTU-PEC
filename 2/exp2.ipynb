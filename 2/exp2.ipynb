{
 "cells": [
  {
   "cell_type": "markdown",
   "metadata": {},
   "source": [
    "# Experiment 2\n",
    "\n",
    "$$\n",
    "\\begin{aligned}\n",
    "\\eta \n",
    "& = \\frac{1}{18}(d-d_0)^2\\frac{(\\rho_2 - \\rho_1)gt}{s}\\frac{1}{1+2.4\\frac{d-d_0}{D}} \\\\\n",
    "& = \\frac{1}{18}(d-d_0)^2\\frac{(\\frac{M}{\\frac{1}{6}\\pi (d-d_0)^3 n} - \\rho_1)gt}{s_1-s_2}\\frac{1}{1+2.4\\frac{d-d_0}{D}}\n",
    "\\end{aligned}\n",
    "$$\n",
    "\n",
    "Here we take cm as the unit of length."
   ]
  },
  {
   "cell_type": "code",
   "execution_count": 4,
   "metadata": {},
   "outputs": [],
   "source": [
    "from math import pi\n",
    "import expr\n",
    "import numpy as np\n",
    "from expr import cons\n",
    "\n",
    "delta_1 = 0.1/10\n",
    "s_1_r = 200.5/10\n",
    "s_2_r = 44.5/10\n",
    "s_1 = expr.genOneData(s_1_r, delta_1)\n",
    "s_2 = expr.genOneData(s_2_r, delta_1)\n",
    "\n",
    "delta_2 = 0.01\n",
    "t_r = [19.60, 19.62, 19.59, 19.66, 19.31, \n",
    "       19.37, 19.56, 19.50, 19.38, 19.37,\n",
    "       19.41, 19.37, 19.31, 19.37, 19.16, \n",
    "       19.38, 19.19, 19.03, 18.91, 19.07]\n",
    "t = expr.genData(t_r, delta_2)\n",
    "\n",
    "delta_3 = 0.02/10\n",
    "D_r = np.array([61.74, 61.56, 61.76, 61.76, 61.78, 61.48])/10\n",
    "D = expr.genData(D_r, delta_3)\n",
    "\n",
    "delta_4 = 0.004/10\n",
    "d_0 = 0.002/10\n",
    "d_r = np.array([1.992, 1.996, 1.995, 1.990, 1.995, \n",
    "                1.991, 1.995, 1.991, 1.991, 1.990])/10\n",
    "d = expr.genData(d_r-d_0, delta_4)\n",
    "\n",
    "delta_5 = 0.001\n",
    "n = 100\n",
    "m_r = 3.277\n",
    "m = expr.genOneData(m_r, delta_5)\n",
    "\n",
    "delta_6 = 0.005\n",
    "rho_1_r = 0.9619\n",
    "rho_1 = expr.genOneData(rho_1_r, delta_6)\n",
    "\n",
    "g = cons(9.793)\n",
    "\n",
    "eta = cons(1/18)*d**2*(cons(6)*m/(cons(pi)*d**3*cons(n))-rho_1)*g*t/(s_1-s_2)/(cons(1)+cons(2.4)*d/D)"
   ]
  },
  {
   "cell_type": "code",
   "execution_count": 5,
   "metadata": {},
   "outputs": [
    {
     "name": "stdout",
     "output_type": "stream",
     "text": [
      "eta avg: 0.17312100442145933, u: 0.0016819702940878438, ur: 0.00971557610648517\n",
      "t avg: 19.358000000000004, u: 0.09622775785797004, ur: 0.004970955566585908\n",
      "D avg: 6.168, u: 0.012841330680547361, ur: 0.0020819278016451625\n",
      "d avg: 0.19906000000000004, u: 0.0004158401459134127, ur: 0.0020890191194283766\n"
     ]
    }
   ],
   "source": [
    "print('eta', eta)\n",
    "print('t', t)\n",
    "print('D', D)\n",
    "print('d', d)"
   ]
  },
  {
   "cell_type": "code",
   "execution_count": null,
   "metadata": {},
   "outputs": [],
   "source": []
  }
 ],
 "metadata": {
  "kernelspec": {
   "display_name": "Python 3 (ipykernel)",
   "language": "python",
   "name": "python3"
  }
 },
 "nbformat": 4,
 "nbformat_minor": 2
}
