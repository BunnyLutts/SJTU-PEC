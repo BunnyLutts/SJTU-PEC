{
 "cells": [
  {
   "cell_type": "code",
   "execution_count": 1,
   "metadata": {},
   "outputs": [],
   "source": [
    "import expr\n",
    "a = [1, 2, 1, 2, 3, 2]\n",
    "A = expr.genData(x=a, d=0.1)\n",
    "b = [1, 3, 2, 4, 3, 5]\n",
    "B = expr.genData(x=b, d=0.1)"
   ]
  },
  {
   "cell_type": "code",
   "execution_count": 2,
   "metadata": {},
   "outputs": [
    {
     "data": {
      "text/plain": [
       "avg: 4.833333333333333, u: 1.6061108982093795, ur: 0.3322988065260785"
      ]
     },
     "execution_count": 2,
     "metadata": {},
     "output_type": "execute_result"
    }
   ],
   "source": [
    "A+B"
   ]
  },
  {
   "cell_type": "markdown",
   "metadata": {},
   "source": []
  },
  {
   "cell_type": "code",
   "execution_count": 17,
   "metadata": {},
   "outputs": [
    {
     "name": "stdout",
     "output_type": "stream",
     "text": [
      "1.033318887716751e-20\n"
     ]
    }
   ],
   "source": [
    "from math import sqrt, pi\n",
    "eta = 1.81\n",
    "s = 1e-5\n",
    "dt = 0.1\n",
    "t1 = 120\n",
    "t2 = t1+dt\n",
    "rho = 0.91e3 - 1.205\n",
    "g = 9.8\n",
    "r = sqrt(9*eta*s/(2*t1*rho*g))\n",
    "q = (4/3*pi*r**3*rho*g-6*pi*eta*r*s/t2)*1e-3/2000\n",
    "print(q)"
   ]
  },
  {
   "cell_type": "code",
   "execution_count": null,
   "metadata": {},
   "outputs": [],
   "source": []
  }
 ],
 "metadata": {
  "kernelspec": {
   "display_name": "base",
   "language": "python",
   "name": "python3"
  },
  "language_info": {
   "codemirror_mode": {
    "name": "ipython",
    "version": 3
   },
   "file_extension": ".py",
   "mimetype": "text/x-python",
   "name": "python",
   "nbconvert_exporter": "python",
   "pygments_lexer": "ipython3",
   "version": "3.11.9"
  }
 },
 "nbformat": 4,
 "nbformat_minor": 2
}
